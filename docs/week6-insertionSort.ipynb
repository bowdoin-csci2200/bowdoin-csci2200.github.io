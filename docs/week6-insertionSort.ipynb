{
 "cells": [
  {
   "cell_type": "markdown",
   "metadata": {},
   "source": [
    "**Credit:**  Adapted from CS161-MIT (originally developed by Mary Wotters, and modified by Nima Anari, Moses Charikar, etc).\n"
   ]
  },
  {
   "cell_type": "markdown",
   "metadata": {},
   "source": [
    "# Sorting: Insertion sort"
   ]
  },
  {
   "cell_type": "code",
   "execution_count": 1,
   "metadata": {},
   "outputs": [],
   "source": [
    "%matplotlib inline\n",
    "import matplotlib\n",
    "import numpy as np\n",
    "import matplotlib.pyplot as plt\n",
    "from random import shuffle"
   ]
  },
  {
   "cell_type": "markdown",
   "metadata": {},
   "source": [
    "## Insertion Sort"
   ]
  },
  {
   "cell_type": "markdown",
   "metadata": {},
   "source": [
    "This implements the most naive version of insertion sort, following the logic: \"insert the thing where it needs to go.\"  \n",
    "\n",
    "It makes a blank list, and inserts elements one-at-a-time.\n",
    "\n",
    "This is not a very good way to implement insertion sort."
   ]
  },
  {
   "cell_type": "code",
   "execution_count": 2,
   "metadata": {},
   "outputs": [],
   "source": [
    "def naiveInsertionSort(A):\n",
    "    B = [None for i in range(len(A))] # B is a blank list of the same length as A\n",
    "    for x in A:\n",
    "        for i in range(len(B)):\n",
    "            if B[i] == None or B[i] > x:\n",
    "                # then x goes in spot i, and we should move everything over.\n",
    "                j = len(B)-1\n",
    "                while j > i:\n",
    "                    B[j] = B[j-1]\n",
    "                    j -= 1\n",
    "                B[i] = x\n",
    "                break # okay we are done placing x\n",
    "    return B"
   ]
  },
  {
   "cell_type": "markdown",
   "metadata": {},
   "source": [
    "Let's sanity-check:"
   ]
  },
  {
   "cell_type": "code",
   "execution_count": 3,
   "metadata": {},
   "outputs": [
    {
     "name": "stdout",
     "output_type": "stream",
     "text": [
      "[3, 4, 5, 6, 8]\n"
     ]
    }
   ],
   "source": [
    "A = [6,4,3,8,5]\n",
    "B = naiveInsertionSort(A)\n",
    "print(B)"
   ]
  },
  {
   "cell_type": "markdown",
   "metadata": {},
   "source": [
    "The code above  captures the notion of \"insertion sort\", in that it insert the elements into a new list, one-at-a-time, where they should go.  But it is not in-place.  The following  implements the insertion sort in-place as described in the lecture."
   ]
  },
  {
   "cell_type": "code",
   "execution_count": 4,
   "metadata": {},
   "outputs": [],
   "source": [
    "def InsertionSort(A):\n",
    "    for i in range(1,len(A)):\n",
    "        current = A[i]\n",
    "        j = i-1\n",
    "        while j >= 0 and A[j] > current:\n",
    "            A[j+1] = A[j]\n",
    "            j -= 1\n",
    "        A[j+1] = current"
   ]
  },
  {
   "cell_type": "markdown",
   "metadata": {},
   "source": [
    "Let's sanity-check:"
   ]
  },
  {
   "cell_type": "code",
   "execution_count": 5,
   "metadata": {},
   "outputs": [
    {
     "name": "stdout",
     "output_type": "stream",
     "text": [
      "[3, 4, 5, 6, 8]\n"
     ]
    }
   ],
   "source": [
    "A = [6,4,3,8,5]\n",
    "InsertionSort(A)\n",
    "print(A)"
   ]
  },
  {
   "cell_type": "markdown",
   "metadata": {},
   "source": [
    "Let's do it a bunch more times!  "
   ]
  },
  {
   "cell_type": "code",
   "execution_count": 6,
   "metadata": {},
   "outputs": [
    {
     "name": "stdout",
     "output_type": "stream",
     "text": [
      "YES IT IS SORTED!\n",
      "YES IT IS SORTED!\n",
      "YES IT IS SORTED!\n",
      "YES IT IS SORTED!\n",
      "YES IT IS SORTED!\n",
      "YES IT IS SORTED!\n",
      "YES IT IS SORTED!\n",
      "YES IT IS SORTED!\n",
      "YES IT IS SORTED!\n",
      "YES IT IS SORTED!\n",
      "YES IT IS SORTED!\n",
      "YES IT IS SORTED!\n",
      "YES IT IS SORTED!\n",
      "YES IT IS SORTED!\n",
      "YES IT IS SORTED!\n",
      "YES IT IS SORTED!\n",
      "YES IT IS SORTED!\n",
      "YES IT IS SORTED!\n",
      "YES IT IS SORTED!\n",
      "YES IT IS SORTED!\n",
      "YES IT IS SORTED!\n",
      "YES IT IS SORTED!\n",
      "YES IT IS SORTED!\n",
      "YES IT IS SORTED!\n",
      "YES IT IS SORTED!\n",
      "YES IT IS SORTED!\n",
      "YES IT IS SORTED!\n",
      "YES IT IS SORTED!\n",
      "YES IT IS SORTED!\n",
      "YES IT IS SORTED!\n",
      "YES IT IS SORTED!\n",
      "YES IT IS SORTED!\n",
      "YES IT IS SORTED!\n",
      "YES IT IS SORTED!\n",
      "YES IT IS SORTED!\n",
      "YES IT IS SORTED!\n",
      "YES IT IS SORTED!\n",
      "YES IT IS SORTED!\n",
      "YES IT IS SORTED!\n",
      "YES IT IS SORTED!\n",
      "YES IT IS SORTED!\n",
      "YES IT IS SORTED!\n",
      "YES IT IS SORTED!\n",
      "YES IT IS SORTED!\n",
      "YES IT IS SORTED!\n",
      "YES IT IS SORTED!\n",
      "YES IT IS SORTED!\n",
      "YES IT IS SORTED!\n",
      "YES IT IS SORTED!\n",
      "YES IT IS SORTED!\n",
      "YES IT IS SORTED!\n",
      "YES IT IS SORTED!\n",
      "YES IT IS SORTED!\n",
      "YES IT IS SORTED!\n",
      "YES IT IS SORTED!\n",
      "YES IT IS SORTED!\n",
      "YES IT IS SORTED!\n",
      "YES IT IS SORTED!\n",
      "YES IT IS SORTED!\n",
      "YES IT IS SORTED!\n",
      "YES IT IS SORTED!\n",
      "YES IT IS SORTED!\n",
      "YES IT IS SORTED!\n",
      "YES IT IS SORTED!\n",
      "YES IT IS SORTED!\n",
      "YES IT IS SORTED!\n",
      "YES IT IS SORTED!\n",
      "YES IT IS SORTED!\n",
      "YES IT IS SORTED!\n",
      "YES IT IS SORTED!\n",
      "YES IT IS SORTED!\n",
      "YES IT IS SORTED!\n",
      "YES IT IS SORTED!\n",
      "YES IT IS SORTED!\n",
      "YES IT IS SORTED!\n",
      "YES IT IS SORTED!\n",
      "YES IT IS SORTED!\n",
      "YES IT IS SORTED!\n",
      "YES IT IS SORTED!\n",
      "YES IT IS SORTED!\n",
      "YES IT IS SORTED!\n",
      "YES IT IS SORTED!\n",
      "YES IT IS SORTED!\n",
      "YES IT IS SORTED!\n",
      "YES IT IS SORTED!\n",
      "YES IT IS SORTED!\n",
      "YES IT IS SORTED!\n",
      "YES IT IS SORTED!\n",
      "YES IT IS SORTED!\n",
      "YES IT IS SORTED!\n",
      "YES IT IS SORTED!\n",
      "YES IT IS SORTED!\n",
      "YES IT IS SORTED!\n",
      "YES IT IS SORTED!\n",
      "YES IT IS SORTED!\n",
      "YES IT IS SORTED!\n",
      "YES IT IS SORTED!\n",
      "YES IT IS SORTED!\n",
      "YES IT IS SORTED!\n",
      "YES IT IS SORTED!\n"
     ]
    }
   ],
   "source": [
    "def is_sorted(A):\n",
    "    for i in range(len(A) - 1):\n",
    "        if A[i] > A[i+1]:\n",
    "            return False\n",
    "    return True\n",
    "\n",
    "A = [1,2,3,4,5,6,7,8,9,10]\n",
    "for trial in range(100):\n",
    "    shuffle(A)\n",
    "    InsertionSort(A)\n",
    "    if is_sorted(A):\n",
    "        print('YES IT IS SORTED!')"
   ]
  },
  {
   "cell_type": "markdown",
   "metadata": {},
   "source": [
    "Okay, now we have two working algorithms.  Which one is faster? \n",
    "\n",
    "Let's run both and plot the running times. "
   ]
  },
  {
   "cell_type": "code",
   "execution_count": 7,
   "metadata": {},
   "outputs": [],
   "source": [
    "#from tryItABunch import tryItABunch\n",
    "import time\n",
    "from random import choice\n",
    "\n",
    "# tryItABunch: runs a function a bunch, and times how long it takes.\n",
    "#\n",
    "# Input: myFn: a function which takes as input a list of integers\n",
    "# Output: lists nValues and tValues so that running myFn on a list of length nValues[i] took \n",
    "# (on average over numTrials tests) time tValues[i] milliseconds.\n",
    "#\n",
    "# Other optional args:\n",
    "#    - startN: smallest n to test\n",
    "#    - endN: largest n to test\n",
    "#    - stepSize: test n's in increments of stepSize between startN and endN\n",
    "#    - numTrials: for each n tests, do numTrials tests and average them\n",
    "#    - listMax: the input lists of length n will have values drawn uniformly at random from range(listMax)\n",
    "def tryItABunch(myFn, startN=10, endN=100, stepSize=10, numTrials=20, listMax = 10):\n",
    "    nValues = []\n",
    "    tValues = []\n",
    "    for n in range(startN, endN, stepSize):\n",
    "        # run myFn several times and average to get a decent idea.\n",
    "        runtime = 0\n",
    "        for t in range(numTrials):\n",
    "            lst = [ choice(range(listMax)) for i in range(n) ] # generate a random list of length n\n",
    "            start = time.time()\n",
    "            myFn( lst )\n",
    "            end = time.time()\n",
    "            runtime += (end - start) * 1000 # measure in milliseconds\n",
    "        runtime = runtime/numTrials\n",
    "        nValues.append(n)\n",
    "        tValues.append(runtime)\n",
    "    return nValues, tValues\n",
    "\n",
    "# next, you can do:\n",
    "# plot(nValues, tValues)\n",
    "# or something like that"
   ]
  },
  {
   "cell_type": "code",
   "execution_count": 8,
   "metadata": {},
   "outputs": [],
   "source": [
    "nValuesNaive, tValuesNaive = tryItABunch(naiveInsertionSort, startN = 50, endN = 1000, \n",
    "                                         stepSize=50, numTrials=10, listMax = 1000 )\n",
    "nValues, tValues = tryItABunch(InsertionSort, startN = 50, endN = 1000, \n",
    "                               stepSize=50, numTrials=50, listMax = 1000) "
   ]
  },
  {
   "cell_type": "code",
   "execution_count": 9,
   "metadata": {},
   "outputs": [
    {
     "data": {
      "text/plain": [
       "Text(0.5, 1.0, 'Naive vs. non-naive insertion sort')"
      ]
     },
     "execution_count": 9,
     "metadata": {},
     "output_type": "execute_result"
    },
    {
     "data": {
      "image/png": "[encoded data removed]",
      "text/plain": [
       "<Figure size 432x288 with 1 Axes>"
      ]
     },
     "metadata": {
      "needs_background": "light"
     },
     "output_type": "display_data"
    }
   ],
   "source": [
    "plt.plot(nValuesNaive, tValuesNaive, color=\"red\", label=\"Naive version\")\n",
    "plt.plot(nValues, tValues, color=\"blue\", label=\"Less naive version\")\n",
    "plt.xlabel(\"n\")\n",
    "plt.ylabel(\"Time(ms)\")\n",
    "plt.legend()\n",
    "plt.title(\"Naive vs. non-naive insertion sort\")\n"
   ]
  },
  {
   "cell_type": "markdown",
   "metadata": {},
   "source": [
    "Well, that does agree with our intuition that the naive version should take longer. "
   ]
  },
  {
   "cell_type": "markdown",
   "metadata": {},
   "source": [
    "But, naive or not, InsertionSort's performance is quadratic with the size of the input. "
   ]
  },
  {
   "cell_type": "code",
   "execution_count": null,
   "metadata": {},
   "outputs": [],
   "source": []
  }
 ],
 "metadata": {
  "kernelspec": {
   "display_name": "Python 3",
   "language": "python",
   "name": "python3"
  },
  "language_info": {
   "codemirror_mode": {
    "name": "ipython",
    "version": 3
   },
   "file_extension": ".py",
   "mimetype": "text/x-python",
   "name": "python",
   "nbconvert_exporter": "python",
   "pygments_lexer": "ipython3",
   "version": "3.8.5"
  }
 },
 "nbformat": 4,
 "nbformat_minor": 1
}
