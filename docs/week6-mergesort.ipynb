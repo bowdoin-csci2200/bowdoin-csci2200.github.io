{
 "cells": [
  {
   "cell_type": "markdown",
   "metadata": {},
   "source": [
    "**Credit:**  Adapted from CS161-MIT (originally developed by Mary Wotters, and modified by Nima Anari, Moses Charikar, etc). \n"
   ]
  },
  {
   "cell_type": "markdown",
   "metadata": {},
   "source": [
    "# Sorting: Mergesort"
   ]
  },
  {
   "cell_type": "markdown",
   "metadata": {},
   "source": [
    "Here is a quick implementation of Mergesort. "
   ]
  },
  {
   "cell_type": "code",
   "execution_count": 1,
   "metadata": {},
   "outputs": [],
   "source": [
    "# merge two sorted arrays to return a sorted array\n",
    "def merge(L, R):\n",
    "    i = 0 # current index in the L array\n",
    "    j = 0 # current index in the R array\n",
    "    ret = []\n",
    "    while i < len(L) and j < len(R):\n",
    "        if L[i] < R[j]:\n",
    "            ret.append(L[i])\n",
    "            i += 1\n",
    "        else:   # ties go to R.  Doesn't really matter.\n",
    "            ret.append(R[j])\n",
    "            j += 1\n",
    "    while i < len(L):\n",
    "        ret.append(L[i])\n",
    "        i += 1\n",
    "    while j < len(R):\n",
    "        ret.append(R[j])\n",
    "        j+= 1\n",
    "    return ret\n",
    "        \n",
    "def mergeSort(A):\n",
    "    n = len(A)\n",
    "    if n <= 1:\n",
    "        return A\n",
    "    L = mergeSort(A[:round(n/2)])\n",
    "    R = mergeSort(A[round(n/2):n])\n",
    "    return merge(L,R)"
   ]
  },
  {
   "cell_type": "markdown",
   "metadata": {},
   "source": [
    "Let's sanity-check:"
   ]
  },
  {
   "cell_type": "code",
   "execution_count": 2,
   "metadata": {},
   "outputs": [
    {
     "name": "stdout",
     "output_type": "stream",
     "text": [
      "[2, 3, 3, 4, 4, 17, 27, 52]\n"
     ]
    }
   ],
   "source": [
    "A = [27,17,2,4,52,3,4,3]\n",
    "B = mergeSort(A)\n",
    "print(B)"
   ]
  },
  {
   "cell_type": "markdown",
   "metadata": {},
   "source": [
    "Let's run it a bunch and plot its running time. "
   ]
  },
  {
   "cell_type": "code",
   "execution_count": 3,
   "metadata": {},
   "outputs": [],
   "source": [
    "%matplotlib inline\n",
    "import matplotlib\n",
    "import numpy as np\n",
    "import matplotlib.pyplot as plt\n",
    "from random import shuffle"
   ]
  },
  {
   "cell_type": "code",
   "execution_count": 4,
   "metadata": {},
   "outputs": [],
   "source": [
    "import time\n",
    "from random import choice\n",
    "\n",
    "# tryItABunch: runs a function a bunch, and times how long it takes.\n",
    "#\n",
    "# Input: myFn: a function which takes as input a list of integers\n",
    "# Output: lists nValues and tValues so that running myFn on a list of length nValues[i] took \n",
    "# (on average over numTrials tests) time tValues[i] milliseconds.\n",
    "#\n",
    "# Other optional args:\n",
    "#    - startN: smallest n to test\n",
    "#    - endN: largest n to test\n",
    "#    - stepSize: test n's in increments of stepSize between startN and endN\n",
    "#    - numTrials: for each n tests, do numTrials tests and average them\n",
    "#    - listMax: the input lists of length n will have values drawn uniformly at random from range(listMax)\n",
    "def tryItABunch(myFn, startN=10, endN=100, stepSize=10, numTrials=20, listMax = 10):\n",
    "    nValues = []\n",
    "    tValues = []\n",
    "    for n in range(startN, endN, stepSize):\n",
    "        # run myFn several times and average to get a decent idea.\n",
    "        runtime = 0\n",
    "        for t in range(numTrials):\n",
    "            lst = [ choice(range(listMax)) for i in range(n) ] # generate a random list of length n\n",
    "            start = time.time()\n",
    "            myFn( lst )\n",
    "            end = time.time()\n",
    "            runtime += (end - start) * 1000 # measure in milliseconds\n",
    "        runtime = runtime/numTrials\n",
    "        nValues.append(n)\n",
    "        tValues.append(runtime)\n",
    "    return nValues, tValues"
   ]
  },
  {
   "cell_type": "code",
   "execution_count": 5,
   "metadata": {},
   "outputs": [],
   "source": [
    "nValuesMerge, tValuesMerge = tryItABunch( mergeSort, startN = 50, endN = 3000, \n",
    "                                         stepSize=50, numTrials=10, listMax = 1000)"
   ]
  },
  {
   "cell_type": "code",
   "execution_count": 6,
   "metadata": {},
   "outputs": [
    {
     "data": {
      "text/plain": [
       "Text(0.5, 1.0, 'Sorting')"
      ]
     },
     "execution_count": 6,
     "metadata": {},
     "output_type": "execute_result"
    },
    {
     "data": {
      "image/png": "[encoded data removed]",
      "text/plain": [
       "<Figure size 432x288 with 1 Axes>"
      ]
     },
     "metadata": {
      "needs_background": "light"
     },
     "output_type": "display_data"
    }
   ],
   "source": [
    "plt.plot(nValuesMerge, tValuesMerge, color=\"orange\", label=\"MergeSort (not very slick implementation)\")\n",
    "plt.xlabel(\"n\")\n",
    "plt.ylabel(\"Time(ms)\")\n",
    "plt.legend()\n",
    "plt.title(\"Sorting\")"
   ]
  },
  {
   "cell_type": "markdown",
   "metadata": {},
   "source": [
    "## Mergesort v. Insertion Sort"
   ]
  },
  {
   "cell_type": "markdown",
   "metadata": {},
   "source": [
    "The following  implements the insertion sort in-place as described in the lecture."
   ]
  },
  {
   "cell_type": "code",
   "execution_count": 7,
   "metadata": {},
   "outputs": [],
   "source": [
    "def insertionSort(A):\n",
    "    for i in range(1,len(A)):\n",
    "        current = A[i]\n",
    "        j = i-1\n",
    "        while j >= 0 and A[j] > current:\n",
    "            A[j+1] = A[j]\n",
    "            j -= 1\n",
    "        A[j+1] = current"
   ]
  },
  {
   "cell_type": "markdown",
   "metadata": {},
   "source": [
    "Let's sanity-check:"
   ]
  },
  {
   "cell_type": "code",
   "execution_count": 8,
   "metadata": {},
   "outputs": [
    {
     "name": "stdout",
     "output_type": "stream",
     "text": [
      "[3, 4, 5, 6, 8]\n"
     ]
    }
   ],
   "source": [
    "A = [6,4,3,8,5]\n",
    "insertionSort(A)\n",
    "print(A)"
   ]
  },
  {
   "cell_type": "markdown",
   "metadata": {},
   "source": [
    "Now, let's compare Mergesort and Insertion sort.  We are going to run each one a bunch of times and plot the running times. "
   ]
  },
  {
   "cell_type": "code",
   "execution_count": 9,
   "metadata": {},
   "outputs": [],
   "source": [
    "nValuesMerge, tValuesMerge = tryItABunch( mergeSort, startN = 50, endN = 1000, \n",
    "                                         stepSize=50, numTrials=10, listMax = 1000)\n",
    "nValues, tValues = tryItABunch( insertionSort, startN = 50, endN = 1000, \n",
    "                                         stepSize=50, numTrials=10, listMax = 1000)"
   ]
  },
  {
   "cell_type": "markdown",
   "metadata": {},
   "source": [
    "And now we plot the running times for  both sorts: "
   ]
  },
  {
   "cell_type": "code",
   "execution_count": 10,
   "metadata": {},
   "outputs": [
    {
     "data": {
      "text/plain": [
       "Text(0.5, 1.0, 'All sorts of sorts')"
      ]
     },
     "execution_count": 10,
     "metadata": {},
     "output_type": "execute_result"
    },
    {
     "data": {
      "image/png": "[encoded data removed]",
      "text/plain": [
       "<Figure size 432x288 with 1 Axes>"
      ]
     },
     "metadata": {
      "needs_background": "light"
     },
     "output_type": "display_data"
    }
   ],
   "source": [
    "plt.plot(nValues, tValues, color=\"blue\", label=\"Insertion sort\")\n",
    "plt.plot(nValuesMerge, tValuesMerge, color=\"orange\", label=\"MergeSort (not so slick implementation)\")\n",
    "plt.xlabel(\"n\")\n",
    "plt.ylabel(\"Time(ms)\")\n",
    "plt.legend()\n",
    "plt.title(\"All sorts of sorts\")"
   ]
  },
  {
   "cell_type": "markdown",
   "metadata": {},
   "source": [
    "In the lines above, endN is set 1000.  What do you expect will happen on even larger inputs?  Modify above and try. "
   ]
  },
  {
   "cell_type": "code",
   "execution_count": null,
   "metadata": {},
   "outputs": [],
   "source": []
  }
 ],
 "metadata": {
  "kernelspec": {
   "display_name": "Python 3",
   "language": "python",
   "name": "python3"
  },
  "language_info": {
   "codemirror_mode": {
    "name": "ipython",
    "version": 3
   },
   "file_extension": ".py",
   "mimetype": "text/x-python",
   "name": "python",
   "nbconvert_exporter": "python",
   "pygments_lexer": "ipython3",
   "version": "3.8.5"
  }
 },
 "nbformat": 4,
 "nbformat_minor": 1
}
